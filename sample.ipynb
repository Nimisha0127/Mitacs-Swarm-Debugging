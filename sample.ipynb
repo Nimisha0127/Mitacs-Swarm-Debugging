{
 "cells": [
  {
   "cell_type": "code",
   "execution_count": 9,
   "metadata": {},
   "outputs": [],
   "source": [
    "import json\n",
    "\n",
    "with open('test1.json', encoding=\"utf8\") as f:\n",
    " data = json.load(f)"
   ]
  },
  {
   "cell_type": "code",
   "execution_count": 10,
   "metadata": {},
   "outputs": [
    {
     "name": "stdout",
     "output_type": "stream",
     "text": [
      "@startuml\n",
      "title **Debugging Session**\\n\\n\n",
      "skinparam componentstyle uml2\n",
      "left to right direction\n",
      "skinparam component{\n",
      "  BackgroundColor Moccasin\n",
      "}\n",
      "package \"**ShareX**\" {\n",
      " component \"**ShareXCLIManager**\" as ShareXCLIManager <<component>>\n",
      "}\n",
      "package \"**ShareX.HelpersLib**\" {\n",
      " component \"**CLIManager**\" as CLIManager <<component>>\n",
      "}\n",
      "package \"**ShareX**\" {\n",
      " component \"**Program**\" as Program <<component>>\n",
      "}\n",
      "package \"**ShareX.HelpersLib**\" {\n",
      " component \"**ApplicationInstanceManager**\" as ApplicationInstanceManager <<component>>\n",
      "}\n",
      "package \"**ShareX.HelpersLib**\" {\n",
      " component \"**DebugHelper**\" as DebugHelper <<component>>\n",
      "}\n",
      "package \"**ShareX.HelpersLib**\" {\n",
      " component \"**Helpers**\" as Helpers <<component>>\n",
      "}\n",
      "package \"**ShareX**\" {\n",
      " component \"**IntegrationHelpers**\" as IntegrationHelpers <<component>>\n",
      "}\n",
      "package \"**ShareX**\" {\n",
      " component \"**SettingManager**\" as SettingManager <<component>>\n",
      "}\n",
      "package \"**ShareX.HelpersLib.SettingsBase<ShareX**\" {\n",
      " component \"**ApplicationConfig**\" as ApplicationConfig <<component>>\n",
      "}\n",
      "package \"**ShareX.UploadersLib**\" {\n",
      " component \"**Uploader**\" as Uploader <<component>>\n",
      "}\n",
      "package \"**ShareX.HelpersLib**\" {\n",
      " component \"**GitHubUpdateManager**\" as GitHubUpdateManager <<component>>\n",
      "}\n",
      "package \"**ShareX**\" {\n",
      " component \"**LanguageHelper**\" as LanguageHelper <<component>>\n",
      "}\n",
      "package \"**ShareX**\" {\n",
      " component \"**CleanupManager**\" as CleanupManager <<component>>\n",
      "}\n",
      "package \"**ShareX**\" {\n",
      " component \"**MainForm**\" as MainForm <<component>>\n",
      "}\n",
      "package \"**ShareX.HelpersLib**\" {\n",
      " component \"**ImageFilesCache**\" as ImageFilesCache <<component>>\n",
      "}\n",
      "package \"**ShareX.HelpersLib**\" {\n",
      " component \"**HotkeyForm**\" as HotkeyForm <<component>>\n",
      "}\n",
      "ShareXCLIManager --u(0-- Program\n",
      "CLIManager --u(0-- ShareXCLIManager\n",
      "ApplicationInstanceManager --u(0-- Program\n",
      "DebugHelper --u(0-- Program\n",
      "CLIManager --u(0-- Program\n",
      "Helpers --u(0-- Program\n",
      "IntegrationHelpers --u(0-- Program\n",
      "SettingManager --u(0-- Program\n",
      "ApplicationConfig --u(0-- SettingManager\n",
      "Uploader --u(0-- Program\n",
      "GitHubUpdateManager --u(0-- Program\n",
      "LanguageHelper --u(0-- Program\n",
      "CleanupManager --u(0-- Program\n",
      "MainForm --u(0-- Program\n",
      "ImageFilesCache --u(0-- MainForm\n",
      "@enduml\n"
     ]
    }
   ],
   "source": [
    "file = open(\"demo3.txt\", \"w\")\n",
    "file.write(\"@startuml\\n\")\n",
    "file.write(\"title **Debugging Session**\\\\n\\\\n\\n\")\n",
    "file.write(\"skinparam componentstyle uml2\\n\")\n",
    "file.write(\"left to right direction\\n\")\n",
    "file.write(\"skinparam component{\\n\")\n",
    "file.write(\"  BackgroundColor Moccasin\\n\")\n",
    "file.write(\"}\\n\")\n",
    "res=[]\n",
    "res1=[]\n",
    "for i in data[\"Events\"]:\n",
    "    if i[\"EventKind\"] == \"StepInto\":\n",
    "        if i[\"Type\"] not in res:\n",
    "            res.append(i[\"Type\"])\n",
    "            file.write(\"package \")\n",
    "            file.write(\"\\\"\")\n",
    "            file.write(\"**\")\n",
    "            file.write(i[\"Namespace\"])\n",
    "            file.write(\"**\")\n",
    "            file.write(\"\\\"\")\n",
    "            file.write(\" {\\n\")\n",
    "            file.write(\" component \")\n",
    "            file.write(\"\\\"\")\n",
    "            file.write(\"**\")\n",
    "            file.write(i[\"Type\"])\n",
    "            file.write(\"**\")\n",
    "            file.write(\"\\\"\")\n",
    "            file.write(\" as \")\n",
    "            file.write(i[\"Type\"])\n",
    "            file.write(\" <<component>>\\n\")\n",
    "            file.write(\"}\\n\")\n",
    "for i in data[\"Events\"]:\n",
    "    if i[\"callby\"] != \"null\" and i[\"EventKind\"] == \"StepInto\":\n",
    "        file.write(i[\"Type\"])\n",
    "        file.write(\" --u(0-- \")\n",
    "        file.write(i[\"callby\"])\n",
    "        file.write(\"\\n\")\n",
    "file.write(\"@enduml\")\n",
    "file.close()\n",
    "\n",
    "file = open(\"demo3.txt\", \"r\")\n",
    "print(file.read())"
   ]
  },
  {
   "cell_type": "code",
   "execution_count": 13,
   "metadata": {},
   "outputs": [
    {
     "name": "stdout",
     "output_type": "stream",
     "text": [
      "CompletedProcess(args='java -jar plantuml.jar -verbose demo3.txt', returncode=0, stdout=b'', stderr=b'(0.000 - 15 Mo) 12 Mo - SecurityProfile LEGACY\\r\\n(0.025 - 15 Mo) 12 Mo - PlantUML Version 1.2021.7\\r\\n(0.025 - 15 Mo) 12 Mo - GraphicsEnvironment.isHeadless() false\\r\\n(0.033 - 15 Mo) 12 Mo - Found 1 files\\r\\n(0.033 - 15 Mo) 12 Mo - Working on demo3.txt\\r\\n(0.054 - 15 Mo) 11 Mo - Setting current dir: C:\\\\Users\\\\acer\\\\.\\r\\n(0.055 - 15 Mo) 11 Mo - Setting current dir: C:\\\\Users\\\\acer\\r\\n(0.055 - 15 Mo) 11 Mo - Using default charset\\r\\n(0.063 - 15 Mo) 11 Mo - Reading from demo3.txt\\r\\n(0.167 - 15 Mo) 10 Mo - Reading file: demo3.txt\\r\\n(0.706 - 15 Mo) 7 Mo - Compilation duration 447\\r\\n(0.706 - 15 Mo) 7 Mo - Regex total/invoked/compiled 127/122/72\\r\\n(0.706 - 15 Mo) 7 Mo - Matches created 500\\r\\n(0.709 - 15 Mo) 7 Mo - Creating file: C:\\\\Users\\\\acer\\\\demo3.png\\r\\n(1.315 - 15 Mo) 5 Mo - Starting Graphviz process [C:\\\\Users\\\\acer\\\\AppData\\\\Local\\\\Temp\\\\_graphviz\\\\dot.exe, -Tsvg]\\r\\n(1.315 - 15 Mo) 5 Mo - DotString size: 4177\\r\\n(1.497 - 15 Mo) 5 Mo - Ending process ok\\r\\n(1.497 - 15 Mo) 5 Mo - Ending Graphviz process\\r\\n(1.661 - 15 Mo) 7 Mo - Creating image 999x1208\\r\\n(2.902 - 15 Mo) 4 Mo - Number of image(s): 1\\r\\n')\n"
     ]
    }
   ],
   "source": [
    "import os \n",
    "import subprocess\n",
    "result = subprocess.run(\"java -jar plantuml.jar -verbose demo3.txt\",capture_output=True)\n",
    "print(result)"
   ]
  }
 ],
 "metadata": {
  "kernelspec": {
   "display_name": "Python 3",
   "language": "python",
   "name": "python3"
  },
  "language_info": {
   "codemirror_mode": {
    "name": "ipython",
    "version": 3
   },
   "file_extension": ".py",
   "mimetype": "text/x-python",
   "name": "python",
   "nbconvert_exporter": "python",
   "pygments_lexer": "ipython3",
   "version": "3.7.6"
  }
 },
 "nbformat": 4,
 "nbformat_minor": 4
}
