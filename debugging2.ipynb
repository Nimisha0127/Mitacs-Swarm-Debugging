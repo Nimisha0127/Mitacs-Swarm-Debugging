{
 "cells": [
  {
   "cell_type": "code",
   "execution_count": 11,
   "metadata": {},
   "outputs": [],
   "source": [
    "import json\n",
    "\n",
    "with open('debuggingsession1.json', encoding=\"utf8\") as f:\n",
    " data = json.load(f)"
   ]
  },
  {
   "cell_type": "code",
   "execution_count": 12,
   "metadata": {},
   "outputs": [
    {
     "name": "stdout",
     "output_type": "stream",
     "text": [
      "@startuml\n",
      "title **Debugging Sessions**\\n\\n\n",
      "skinparam componentstyle uml2\n",
      "left to right direction\n",
      "skinparam component{\n",
      "  BackgroundColor Moccasin\n",
      "}\n",
      "component \"Program\" as comp1 <<component>>\n",
      "component \"Person\" as comp2 <<component>>\n",
      "component \"Calculate\" as comp3 <<component>>\n",
      "component \"Data\" as comp4 <<component>>\n",
      "comp2 --u0)-- comp1\n",
      "comp3 --u0)-- comp1\n",
      "comp4 --u0)-- comp2\n",
      "@enduml\n"
     ]
    }
   ],
   "source": [
    "file = open(\"demo1.txt\", \"w\")\n",
    "file.write(\"@startuml\\n\")\n",
    "file.write(\"title **Debugging Sessions**\\\\n\\\\n\\n\")\n",
    "file.write(\"skinparam componentstyle uml2\\n\")\n",
    "file.write(\"left to right direction\\n\")\n",
    "file.write(\"skinparam component{\\n\")\n",
    "file.write(\"  BackgroundColor Moccasin\\n\")\n",
    "file.write(\"}\\n\")\n",
    "res=[]\n",
    "res1=[]\n",
    "for i in data[\"events\"]:\n",
    "        if i[\"Type\"] not in res:\n",
    "            res.append(i[\"Type\"])\n",
    "            file.write(\"component \")\n",
    "            file.write(\"\\\"\")\n",
    "            file.write(i[\"Type\"])\n",
    "            file.write(\"\\\"\")\n",
    "            file.write(\" as \")\n",
    "            file.write(i[\"as_type\"])\n",
    "            file.write(\" <<component>>\\n\")\n",
    "for i in data[\"events\"]:\n",
    "    if i[\"Stepinto_Call\"] != \"null\":\n",
    "        file.write(i[\"Stepinto_Call\"])\n",
    "        file.write(\" --u0)-- \")\n",
    "        file.write(i[\"as_type\"])\n",
    "        file.write(\"\\n\")\n",
    "file.write(\"@enduml\")\n",
    "file.close()\n",
    "\n",
    "file = open(\"demo1.txt\", \"r\")\n",
    "print(file.read())"
   ]
  },
  {
   "cell_type": "code",
   "execution_count": null,
   "metadata": {},
   "outputs": [],
   "source": []
  }
 ],
 "metadata": {
  "kernelspec": {
   "display_name": "Python 3",
   "language": "python",
   "name": "python3"
  },
  "language_info": {
   "codemirror_mode": {
    "name": "ipython",
    "version": 3
   },
   "file_extension": ".py",
   "mimetype": "text/x-python",
   "name": "python",
   "nbconvert_exporter": "python",
   "pygments_lexer": "ipython3",
   "version": "3.7.6"
  }
 },
 "nbformat": 4,
 "nbformat_minor": 4
}
