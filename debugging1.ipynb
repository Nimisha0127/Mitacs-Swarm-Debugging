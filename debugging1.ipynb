{
 "cells": [
  {
   "cell_type": "code",
   "execution_count": 81,
   "metadata": {},
   "outputs": [],
   "source": [
    "import json\n",
    "\n",
    "with open('debugsessions.json', encoding=\"utf8\") as f:\n",
    " data = json.load(f)"
   ]
  },
  {
   "cell_type": "code",
   "execution_count": 82,
   "metadata": {},
   "outputs": [],
   "source": [
    "with open('debugsession.json', \"w\") as of:\n",
    "    data2 = json.dumps(data, indent=2)"
   ]
  },
  {
   "cell_type": "code",
   "execution_count": 98,
   "metadata": {},
   "outputs": [
    {
     "name": "stdout",
     "output_type": "stream",
     "text": [
      "@startuml\n",
      "title **Debugging Sessions**\\n\\n\n",
      "skinparam componentstyle uml2\n",
      "left to right direction\n",
      "skinparam component{\n",
      "  BackgroundColor Moccasin\n",
      "}\n",
      "component Program as comp1 <<component>>{ \n",
      "port \"//Main()//\" as prog\n",
      "}\n",
      "component Person as comp2 <<component>>{ \n",
      "port \"//GetAddress()//\" as per1 \n",
      "port \"//SecondMethodStepInto()//\" as per2 \n",
      "port \"//MethodWithoutParameter()//\" as per3\n",
      "}\n",
      "component Calculate as comp3 <<component>>{ \n",
      "port \"//GetConcat()//\" as cal1\n",
      "}\n",
      "component Data as comp4 <<component>>{ \n",
      "port \"//FindData()//\" as data1 \n",
      "port \"//RemoveData()//\" as data2\n",
      "}\n",
      "per1 --u0)-- prog\n",
      "cal1 --u0)-- prog\n",
      "data1 --u0)-- per1\n",
      "@enduml\n"
     ]
    }
   ],
   "source": [
    "file = open(\"demo.txt\", \"w\")\n",
    "file.write(\"@startuml\\n\")\n",
    "file.write(\"title **Debugging Sessions**\\\\n\\\\n\\n\")\n",
    "file.write(\"skinparam componentstyle uml2\\n\")\n",
    "file.write(\"left to right direction\\n\")\n",
    "file.write(\"skinparam component{\\n\")\n",
    "file.write(\"  BackgroundColor Moccasin\\n\")\n",
    "file.write(\"}\\n\")\n",
    "res=[]\n",
    "res1=[]\n",
    "for i in data[\"events\"]:\n",
    "    if i[\"Type\"] not in res:\n",
    "        res.append(i[\"Type\"])\n",
    "        file.write(\"component \")\n",
    "        file.write(i[\"Type\"])\n",
    "        file.write(\" as \")\n",
    "        file.write(i[\"as_type\"])\n",
    "        file.write(\" <<component>>{\")\n",
    "        for j in data[\"events\"]:\n",
    "            if j[\"Type\"] == i[\"Type\"]:\n",
    "                if j[\"Method\"] not in res1:\n",
    "                    res1.append(j[\"Method\"])\n",
    "                    file.write(\" \\nport \")\n",
    "                    file.write(\"\\\"//\")\n",
    "                    file.write(j[\"Method\"])\n",
    "                    file.write(\"//\")\n",
    "                    file.write(\"\\\" as \")\n",
    "                    file.write(j[\"as_method\"])\n",
    "        file.write(\"\\n}\\n\")\n",
    "        \n",
    "res2=[]\n",
    "for i in data[\"events\"]:\n",
    "    if i[\"Stepinto_Call\"] != \"null\":\n",
    "        file.write(i[\"Stepinto_Call\"])\n",
    "        file.write(\" --u0)-- \")\n",
    "        file.write(i[\"as_method\"])\n",
    "        file.write(\"\\n\")\n",
    "file.write(\"@enduml\")\n",
    "file.close()\n",
    "\n",
    "file = open(\"demo.txt\", \"r\")\n",
    "print(file.read())"
   ]
  },
  {
   "cell_type": "code",
   "execution_count": null,
   "metadata": {},
   "outputs": [],
   "source": []
  }
 ],
 "metadata": {
  "kernelspec": {
   "display_name": "Python 3",
   "language": "python",
   "name": "python3"
  },
  "language_info": {
   "codemirror_mode": {
    "name": "ipython",
    "version": 3
   },
   "file_extension": ".py",
   "mimetype": "text/x-python",
   "name": "python",
   "nbconvert_exporter": "python",
   "pygments_lexer": "ipython3",
   "version": "3.7.6"
  }
 },
 "nbformat": 4,
 "nbformat_minor": 4
}
