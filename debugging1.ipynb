{
 "cells": [
  {
   "cell_type": "code",
   "execution_count": 54,
   "metadata": {},
   "outputs": [],
   "source": [
    "import json\n",
    "\n",
    "with open('debugsession.json', encoding=\"utf8\") as f:\n",
    " data = json.load(f)"
   ]
  },
  {
   "cell_type": "code",
   "execution_count": 55,
   "metadata": {},
   "outputs": [],
   "source": [
    "with open('debugsession.json', \"w\") as of:\n",
    "    data2 = json.dumps(data, indent=2)"
   ]
  },
  {
   "cell_type": "code",
   "execution_count": 69,
   "metadata": {},
   "outputs": [
    {
     "name": "stdout",
     "output_type": "stream",
     "text": [
      "@startuml\n",
      "title **Debugging Sessions**\\n\\n\n",
      "skinparam componentstyle uml2\n",
      "left to right direction\n",
      "skinparam component{\n",
      "  BackgroundColor Moccasin\n",
      "}\n",
      "component Program as comp1 <<component>>{\n",
      " port \"//Main()//\" as prog\n",
      "}\n",
      "component Person as comp2 <<component>>{\n",
      " port \"//GetAddress()//\" as per1\n",
      " port \"//SecondMethodStepInto()//\" as per2\n",
      " port \"//MethodWithoutParameter()//\" as per3\n",
      "}\n",
      "component Calculate as comp3 <<component>>{\n",
      " port \"//GetConcat()//\" as cal1\n",
      "}\n",
      "component Data as comp4 <<component>>{\n",
      " port \"//FindData()//\" as data1\n",
      " port \"//RemoveData()//\" as data2\n",
      "}\n",
      "per1 --u0)-- prog\n",
      "cal1 --u0)-- prog\n",
      "data1 --u0)-- per1\n",
      "@enduml\n"
     ]
    }
   ],
   "source": [
    "print(\"@startuml\")\n",
    "print(\"title **Debugging Sessions**\\\\n\\\\n\")\n",
    "print(\"skinparam componentstyle uml2\")\n",
    "print(\"left to right direction\")\n",
    "print(\"skinparam component{\")\n",
    "print(\"  BackgroundColor Moccasin\")\n",
    "print(\"}\")\n",
    "res=[]\n",
    "res1=[]\n",
    "for i in data[\"events\"]:\n",
    "    if i[\"Type\"] not in res:\n",
    "        res.append(i[\"Type\"])\n",
    "        print(\"component\",i[\"Type\"],\"as\",i[\"as_type\"],\"<<component>>{\")\n",
    "        for j in data[\"events\"]:\n",
    "            if j[\"Type\"] == i[\"Type\"]:\n",
    "                if j[\"Method\"] not in res1:\n",
    "                    res1.append(j[\"Method\"])\n",
    "                    print(\" port \",\"\\\"//\",j[\"Method\"],\"//\",\"\\\" as \",j[\"as_method\"],sep ='')\n",
    "        print(\"}\")\n",
    "        \n",
    "res2=[]\n",
    "for i in data[\"events\"]:\n",
    "    if i[\"Stepinto_Call\"] != \"null\":\n",
    "        print(i[\"Stepinto_Call\"],\"--u0)--\",i[\"as_method\"])\n",
    "print(\"@enduml\")"
   ]
  },
  {
   "cell_type": "code",
   "execution_count": null,
   "metadata": {},
   "outputs": [],
   "source": []
  }
 ],
 "metadata": {
  "kernelspec": {
   "display_name": "Python 3",
   "language": "python",
   "name": "python3"
  },
  "language_info": {
   "codemirror_mode": {
    "name": "ipython",
    "version": 3
   },
   "file_extension": ".py",
   "mimetype": "text/x-python",
   "name": "python",
   "nbconvert_exporter": "python",
   "pygments_lexer": "ipython3",
   "version": "3.7.6"
  }
 },
 "nbformat": 4,
 "nbformat_minor": 4
}
